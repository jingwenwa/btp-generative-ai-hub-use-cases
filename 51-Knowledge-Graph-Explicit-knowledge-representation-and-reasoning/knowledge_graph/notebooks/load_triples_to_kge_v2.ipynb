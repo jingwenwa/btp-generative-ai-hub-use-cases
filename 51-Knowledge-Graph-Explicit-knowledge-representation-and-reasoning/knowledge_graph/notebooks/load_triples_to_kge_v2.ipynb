{
 "cells": [
  {
   "cell_type": "markdown",
   "id": "c28092c7-ee01-4f1a-9920-65a8a51d4061",
   "metadata": {},
   "source": [
    "# Load triples to HANA Cloud KG Engine"
   ]
  },
  {
   "cell_type": "code",
   "execution_count": 1,
   "id": "d0d7f2f9-d563-4099-a227-4ecf4d9cbabc",
   "metadata": {},
   "outputs": [],
   "source": [
    "#Credentials\n",
    "address = '291933b3-a304-499f-8649-14ec7ce3ce9a.hana.prod-ap10.hanacloud.ondemand.com'\n",
    "port = '443'\n",
    "user = 'DBUSER'\n",
    "password = 'Testing123'"
   ]
  },
  {
   "cell_type": "code",
   "execution_count": 2,
   "id": "4da539f1-2e8a-44c3-9e28-d30ae426325e",
   "metadata": {},
   "outputs": [],
   "source": [
    "from hdbcli import dbapi\n",
    "\n",
    "# connect to database using username/password\n",
    "conn = dbapi.connect(user=user, password=password, address=address, port=port)\n",
    "cursor = conn.cursor()"
   ]
  },
  {
   "cell_type": "code",
   "execution_count": null,
   "id": "30977059-d829-4673-a7ae-12eecc5f1309",
   "metadata": {},
   "outputs": [],
   "source": [
    "#Populate a new RDF in HANA Cloud with the ttl file content. We put the ontology into a specific graph.\n",
    "ttl_filename = \"/Users/i757416/Documents/GitHub/btp-generative-ai-hub-use-cases/51-Knowledge-Graph-Explicit-knowledge-representation-and-reasoning/knowledge_graph/ontology/ontology.ttl\"\n",
    "graph_name = \"http://www.semanticweb.org/ontologies/2025/smart-technical-advisory-rdf-test\""
   ]
  },
  {
   "cell_type": "code",
   "execution_count": 4,
   "id": "049e676e-e1d1-4597-accc-aa5f1261135a",
   "metadata": {},
   "outputs": [
    {
     "name": "stdout",
     "output_type": "stream",
     "text": [
      "drop graph <http://www.semanticweb.org/ontologies/2025/smart-technical-advisory-rdf-v4>\n"
     ]
    }
   ],
   "source": [
    "# Drop existing one if needed\n",
    "query = \"\"\"drop graph <{graph_name}>\"\"\". format(graph_name=graph_name)\n",
    "print(query)"
   ]
  },
  {
   "cell_type": "code",
   "execution_count": 5,
   "id": "57d74764-ba52-49a6-b786-cc8ece509430",
   "metadata": {},
   "outputs": [],
   "source": [
    "#Uncomment to drop the ontology\n",
    "#resp = conn.cursor().callproc('SPARQL_EXECUTE', (query, '', '?', None) )"
   ]
  },
  {
   "cell_type": "code",
   "execution_count": 6,
   "id": "4cd73700-ecd4-4c60-8d7e-11087dcc35f3",
   "metadata": {},
   "outputs": [],
   "source": [
    "with open(ttl_filename, 'r') as ttlfp:\n",
    "    request_hdrs = ''\n",
    "    request_hdrs += 'rqx-load-protocol: true' + '\\r\\n'            # required header for upload protocol\n",
    "    request_hdrs += 'rqx-load-filename: ' + ttl_filename + '\\r\\n' # optional header\n",
    "    request_hdrs += 'rqx-load-graphname: ' + graph_name + '\\r\\n'   # optional header to specify name of the graph, \n",
    "                                                                  #if not provided RDF data will be loaded to internal-default-graph\n",
    "    conn.cursor().callproc('SPARQL_EXECUTE', (ttlfp.read(), request_hdrs, '?', None))"
   ]
  },
  {
   "cell_type": "code",
   "execution_count": 7,
   "id": "2bd64a92-a835-4129-a2fa-e352272aa999",
   "metadata": {},
   "outputs": [],
   "source": [
    "query = \"\"\"\n",
    "    SELECT * \n",
    "    FROM SPARQL_TABLE('\n",
    "        prefix : <http://www.semanticweb.org/ontologies/2025/smart-technical-advisory-ontology/>\n",
    "        select ?s \n",
    "        from <http://www.semanticweb.org/ontologies/2025/smart-technical-advisory-rdf-v4> \n",
    "        where { \n",
    "            ?s a :SAPEmployee\n",
    "            }\n",
    "        '\n",
    "        )\"\"\""
   ]
  },
  {
   "cell_type": "code",
   "execution_count": 8,
   "id": "2ae40319-2036-45b9-9adb-f723711082d5",
   "metadata": {},
   "outputs": [
    {
     "name": "stdout",
     "output_type": "stream",
     "text": [
      "('http://www.semanticweb.org/ontologies/2025/smart-technical-advisory-ontology#xxxx.yyyyy@sap.com',)\n"
     ]
    }
   ],
   "source": [
    "#There is just one individual\n",
    "cursor.execute(query)\n",
    "for row in cursor:\n",
    "    print(row)"
   ]
  },
  {
   "cell_type": "code",
   "execution_count": 9,
   "id": "daef6826-9f76-4e7c-82d7-5f99eecd0bc4",
   "metadata": {},
   "outputs": [],
   "source": [
    "#Function to load more ttl files\n",
    "def load_file(ttl_filename, graph_name):\n",
    "    try:\n",
    "        with open(ttl_filename, 'r') as ttlfp:\n",
    "            request_hdrs = ''\n",
    "            request_hdrs += 'rqx-load-protocol: true' + '\\r\\n'            # required header for upload protocol\n",
    "            request_hdrs += 'rqx-load-filename: ' + ttl_filename + '\\r\\n' # optional header\n",
    "            request_hdrs += 'rqx-load-graphname: ' + graph_name + '\\r\\n'  # optional header to specify name of the graph, \n",
    "                                                                          # if not provided RDF data will be loaded \n",
    "                                                                          # to internal-default-graph\n",
    "            conn.cursor().callproc('SPARQL_EXECUTE', (ttlfp.read(), request_hdrs, '?', None))\n",
    "        return 0\n",
    "    except:\n",
    "        print(\"An exception occurred\")\n",
    "        return 1"
   ]
  },
  {
   "cell_type": "code",
   "execution_count": 10,
   "id": "94c4208e-9631-4876-a1fd-bc2948486a52",
   "metadata": {},
   "outputs": [],
   "source": [
    "query = \"\"\"drop graph <http://www.semanticweb.org/ontologies/2025/smart-technical-advisory-rdf-test>\"\"\""
   ]
  },
  {
   "cell_type": "code",
   "execution_count": 10,
   "id": "46516a6c-9345-469c-ad24-4a6e1b920cb8",
   "metadata": {},
   "outputs": [],
   "source": [
    "#Uncomment to drop the rdf\n",
    "#resp = conn.cursor().callproc('SPARQL_EXECUTE', (query, '', '?', None) )"
   ]
  },
  {
   "cell_type": "code",
   "execution_count": 11,
   "id": "65c102df-663a-444d-94ea-470baacb759a",
   "metadata": {},
   "outputs": [
    {
     "name": "stdout",
     "output_type": "stream",
     "text": [
      "/Users/i757416/Documents/GitHub/btp-generative-ai-hub-use-cases/51-Knowledge-Graph-Explicit-knowledge-representation-and-reasoning/knowledge_graph/instances/INDUSTRY2PSR.ttl\n",
      "29\n"
     ]
    }
   ],
   "source": [
    "import glob\n",
    "\n",
    "path = \"/Users/i757416/Documents/GitHub/btp-generative-ai-hub-use-cases/51-Knowledge-Graph-Explicit-knowledge-representation-and-reasoning/knowledge_graph/instances/\"\n",
    "\n",
    "list = sorted(glob.glob(path + \"*.ttl\"))\n",
    "print(list[5])\n",
    "print(len(list))"
   ]
  },
  {
   "cell_type": "code",
   "execution_count": 12,
   "id": "88565c9f-ca70-4dee-87f0-13e8d7853d88",
   "metadata": {},
   "outputs": [
    {
     "name": "stdout",
     "output_type": "stream",
     "text": [
      "0 /Users/i757416/Documents/GitHub/btp-generative-ai-hub-use-cases/51-Knowledge-Graph-Explicit-knowledge-representation-and-reasoning/knowledge_graph/instances/AI_SCENARIO_TYPE.ttl\n",
      "1 /Users/i757416/Documents/GitHub/btp-generative-ai-hub-use-cases/51-Knowledge-Graph-Explicit-knowledge-representation-and-reasoning/knowledge_graph/instances/BTP_SCENARIO_TYPE.ttl\n",
      "2 /Users/i757416/Documents/GitHub/btp-generative-ai-hub-use-cases/51-Knowledge-Graph-Explicit-knowledge-representation-and-reasoning/knowledge_graph/instances/COUNTRY.ttl\n",
      "3 /Users/i757416/Documents/GitHub/btp-generative-ai-hub-use-cases/51-Knowledge-Graph-Explicit-knowledge-representation-and-reasoning/knowledge_graph/instances/GTM_OUTCOME.ttl\n",
      "4 /Users/i757416/Documents/GitHub/btp-generative-ai-hub-use-cases/51-Knowledge-Graph-Explicit-knowledge-representation-and-reasoning/knowledge_graph/instances/GTM_ROUTE.ttl\n",
      "5 /Users/i757416/Documents/GitHub/btp-generative-ai-hub-use-cases/51-Knowledge-Graph-Explicit-knowledge-representation-and-reasoning/knowledge_graph/instances/INDUSTRY2PSR.ttl\n",
      "6 /Users/i757416/Documents/GitHub/btp-generative-ai-hub-use-cases/51-Knowledge-Graph-Explicit-knowledge-representation-and-reasoning/knowledge_graph/instances/INDUSTRY_LOOKUP.ttl\n",
      "7 /Users/i757416/Documents/GitHub/btp-generative-ai-hub-use-cases/51-Knowledge-Graph-Explicit-knowledge-representation-and-reasoning/knowledge_graph/instances/INITIATOR.ttl\n",
      "8 /Users/i757416/Documents/GitHub/btp-generative-ai-hub-use-cases/51-Knowledge-Graph-Explicit-knowledge-representation-and-reasoning/knowledge_graph/instances/LOB_LOOKUP.ttl\n",
      "9 /Users/i757416/Documents/GitHub/btp-generative-ai-hub-use-cases/51-Knowledge-Graph-Explicit-knowledge-representation-and-reasoning/knowledge_graph/instances/ORGANIZATION.ttl\n",
      "10 /Users/i757416/Documents/GitHub/btp-generative-ai-hub-use-cases/51-Knowledge-Graph-Explicit-knowledge-representation-and-reasoning/knowledge_graph/instances/PARTNER.ttl\n",
      "11 /Users/i757416/Documents/GitHub/btp-generative-ai-hub-use-cases/51-Knowledge-Graph-Explicit-knowledge-representation-and-reasoning/knowledge_graph/instances/PARTNER2PARTNER_TYPE.ttl\n",
      "12 /Users/i757416/Documents/GitHub/btp-generative-ai-hub-use-cases/51-Knowledge-Graph-Explicit-knowledge-representation-and-reasoning/knowledge_graph/instances/PARTNERSHIP_TYPE.ttl\n",
      "13 /Users/i757416/Documents/GitHub/btp-generative-ai-hub-use-cases/51-Knowledge-Graph-Explicit-knowledge-representation-and-reasoning/knowledge_graph/instances/PARTNER_CONTACT_PERSON.ttl\n",
      "14 /Users/i757416/Documents/GitHub/btp-generative-ai-hub-use-cases/51-Knowledge-Graph-Explicit-knowledge-representation-and-reasoning/knowledge_graph/instances/PARTNER_SERVICE_REQUEST.ttl\n",
      "15 /Users/i757416/Documents/GitHub/btp-generative-ai-hub-use-cases/51-Knowledge-Graph-Explicit-knowledge-representation-and-reasoning/knowledge_graph/instances/PARTNER_TYPE_LOOKUP.ttl\n",
      "16 /Users/i757416/Documents/GitHub/btp-generative-ai-hub-use-cases/51-Knowledge-Graph-Explicit-knowledge-representation-and-reasoning/knowledge_graph/instances/PBC_ORDER_NUMBERS.ttl\n",
      "17 /Users/i757416/Documents/GitHub/btp-generative-ai-hub-use-cases/51-Knowledge-Graph-Explicit-knowledge-representation-and-reasoning/knowledge_graph/instances/PRODUCT.ttl\n",
      "18 /Users/i757416/Documents/GitHub/btp-generative-ai-hub-use-cases/51-Knowledge-Graph-Explicit-knowledge-representation-and-reasoning/knowledge_graph/instances/PROGRAM_INITIATIVE.ttl\n",
      "19 /Users/i757416/Documents/GitHub/btp-generative-ai-hub-use-cases/51-Knowledge-Graph-Explicit-knowledge-representation-and-reasoning/knowledge_graph/instances/PROGRAM_INITIATIVE2PSR.ttl\n",
      "20 /Users/i757416/Documents/GitHub/btp-generative-ai-hub-use-cases/51-Knowledge-Graph-Explicit-knowledge-representation-and-reasoning/knowledge_graph/instances/PSR_UC_SAP_PRODUCTS_USED.ttl\n",
      "21 /Users/i757416/Documents/GitHub/btp-generative-ai-hub-use-cases/51-Knowledge-Graph-Explicit-knowledge-representation-and-reasoning/knowledge_graph/instances/REQUIRED_SUPPORT_TYPE.ttl\n",
      "22 /Users/i757416/Documents/GitHub/btp-generative-ai-hub-use-cases/51-Knowledge-Graph-Explicit-knowledge-representation-and-reasoning/knowledge_graph/instances/REQUIRED_SUPPORT_TYPE2PSR.ttl\n",
      "An exception occurred\n",
      "23 /Users/i757416/Documents/GitHub/btp-generative-ai-hub-use-cases/51-Knowledge-Graph-Explicit-knowledge-representation-and-reasoning/knowledge_graph/instances/SAP_EMPLOYEE.ttl\n",
      "24 /Users/i757416/Documents/GitHub/btp-generative-ai-hub-use-cases/51-Knowledge-Graph-Explicit-knowledge-representation-and-reasoning/knowledge_graph/instances/SAP_REGION.ttl\n",
      "25 /Users/i757416/Documents/GitHub/btp-generative-ai-hub-use-cases/51-Knowledge-Graph-Explicit-knowledge-representation-and-reasoning/knowledge_graph/instances/SERVICE.ttl\n",
      "26 /Users/i757416/Documents/GitHub/btp-generative-ai-hub-use-cases/51-Knowledge-Graph-Explicit-knowledge-representation-and-reasoning/knowledge_graph/instances/SERVICE_TYPE.ttl\n",
      "27 /Users/i757416/Documents/GitHub/btp-generative-ai-hub-use-cases/51-Knowledge-Graph-Explicit-knowledge-representation-and-reasoning/knowledge_graph/instances/SOURCE_OF_REQUEST.ttl\n",
      "28 /Users/i757416/Documents/GitHub/btp-generative-ai-hub-use-cases/51-Knowledge-Graph-Explicit-knowledge-representation-and-reasoning/knowledge_graph/instances/USE_CASE.ttl\n"
     ]
    }
   ],
   "source": [
    "for i in range(len(list)):\n",
    "    print(i, list[i])\n",
    "    ttl_filename = list[i]\n",
    "    graph_name = \"http://www.semanticweb.org/ontologies/2025/smart-technical-advisory-rdf-v4\"\n",
    "    load_file(ttl_filename, graph_name)"
   ]
  },
  {
   "cell_type": "code",
   "execution_count": 13,
   "id": "64d99a70-2bcf-45a4-b4ec-1288b95f7a87",
   "metadata": {},
   "outputs": [],
   "source": [
    "# Just check the scenario type URI\n",
    "query = \"\"\"\n",
    "    prefix : <http://www.semanticweb.org/ontologies/2025/smart-technical-advisory-ontology/>\n",
    "    select ?s \n",
    "    from <http://www.semanticweb.org/ontologies/2025/smart-technical-advisory-rdf-v4>\n",
    "    where {\n",
    "        #?s a :SAPAIScenario\n",
    "        #?s a :UseCase\n",
    "        ?s a :SAPPartnerContact\n",
    "        }\n",
    "    LIMIT 10\n",
    "\"\"\""
   ]
  },
  {
   "cell_type": "code",
   "execution_count": 14,
   "id": "6412634a-593e-457d-8d54-9bb295af892f",
   "metadata": {},
   "outputs": [
    {
     "name": "stdout",
     "output_type": "stream",
     "text": [
      "s\n",
      "http://www.semanticweb.org/ontologies/2025/smart-technical-advisory-ontology/oliver.lee@362109.com\n",
      "http://www.semanticweb.org/ontologies/2025/smart-technical-advisory-ontology/noah.brown@1719068.com\n",
      "http://www.semanticweb.org/ontologies/2025/smart-technical-advisory-ontology/olivia.patel@708379.com\n",
      "http://www.semanticweb.org/ontologies/2025/smart-technical-advisory-ontology/isabella.martinez@502425.com\n",
      "http://www.semanticweb.org/ontologies/2025/smart-technical-advisory-ontology/ava.thomas@698634.com\n",
      "http://www.semanticweb.org/ontologies/2025/smart-technical-advisory-ontology/ella.rodriguez@481405.com\n",
      "http://www.semanticweb.org/ontologies/2025/smart-technical-advisory-ontology/liam.wilson@1691507.com\n",
      "http://www.semanticweb.org/ontologies/2025/smart-technical-advisory-ontology/amelia.wilson@663962.com\n",
      "http://www.semanticweb.org/ontologies/2025/smart-technical-advisory-ontology/lucas.johnson@665751.com\n",
      "http://www.semanticweb.org/ontologies/2025/smart-technical-advisory-ontology/isabella.clark@515403.com\n",
      "\n"
     ]
    }
   ],
   "source": [
    "resp = conn.cursor().callproc('SPARQL_EXECUTE', (query, 'Accept: application/sparql-results+csv', '?', None) )\n",
    "print(resp[2]) "
   ]
  },
  {
   "cell_type": "code",
   "execution_count": 15,
   "id": "f5699884-52fd-498e-9a1e-9fc619bf6e01",
   "metadata": {},
   "outputs": [],
   "source": [
    "# Check all the service requests initiated by the partner, in particular those from Partner2301317\n",
    "query = \"\"\"\n",
    "    SELECT * \n",
    "    FROM SPARQL_TABLE('\n",
    "        prefix rdf: <http://www.w3.org/1999/02/22-rdf-syntax-ns#>\n",
    "        prefix rdfs: <http://www.w3.org/2000/01/rdf-schema#>\n",
    "        prefix : <http://www.semanticweb.org/ontologies/2025/smart-technical-advisory-ontology/> \n",
    "        prefix owl: <http://www.w3.org/2002/07/owl#> \n",
    "        \n",
    "        select ?psrRef ?partnerName ?initiatorValue ?status\n",
    "        from <http://www.semanticweb.org/ontologies/2025/smart-technical-advisory-rdf-v4> \n",
    "        where { \n",
    "            ?psrRef a :SAPServiceRequest ;\n",
    "                :wasInitiatedBy ?initiatorRef ;\n",
    "                :requestedBy ?partnerRef ;\n",
    "                :hasStatus ?status .\n",
    "            ?partnerRef :accountName ?partnerName .\n",
    "            ?initiatorRef :hasName ?initiatorValue .\n",
    "            }\n",
    "        LIMIT 10\n",
    "        '\n",
    "    )\"\"\""
   ]
  },
  {
   "cell_type": "code",
   "execution_count": 16,
   "id": "992754eb-71e5-4824-a28c-24aa330e7c5e",
   "metadata": {},
   "outputs": [
    {
     "name": "stdout",
     "output_type": "stream",
     "text": [
      "('http://www.semanticweb.org/ontologies/2025/smart-technical-advisory-ontology/ServiceRequest85ef55b1-e74a-4be5-b7e3-835873ffcb06', 'Hogwarts Consulting', 'Partner', 'completed')\n"
     ]
    }
   ],
   "source": [
    "cursor.execute(query)\n",
    "for row in cursor:\n",
    "    print(row)"
   ]
  },
  {
   "cell_type": "code",
   "execution_count": 17,
   "id": "e4531a0c-3030-4797-afd9-74043b887684",
   "metadata": {},
   "outputs": [
    {
     "name": "stdout",
     "output_type": "stream",
     "text": [
      "Triples\n",
      "54626\n",
      "\n"
     ]
    }
   ],
   "source": [
    "# Count the number of triples in the rdf\n",
    "query = \"\"\"\n",
    "    SELECT (COUNT(*) as ?Triples) \n",
    "    WHERE \n",
    "      { GRAPH <http://www.semanticweb.org/ontologies/2025/smart-technical-advisory-rdf-test> \n",
    "          { ?s ?p ?o } \n",
    "      }\n",
    "\"\"\"\n",
    "resp = conn.cursor().callproc('SPARQL_EXECUTE', (query, 'Accept: application/sparql-results+csv', '?', None) )\n",
    "print(resp[2]) "
   ]
  },
  {
   "cell_type": "code",
   "execution_count": 18,
   "id": "0070ddf8-196d-456f-baee-6b161fdc9de9",
   "metadata": {},
   "outputs": [
    {
     "name": "stdout",
     "output_type": "stream",
     "text": [
      "c\n",
      "http://www.semanticweb.org/ontologies/2025/smart-technical-advisory-ontology/UseCase\n",
      "http://www.semanticweb.org/ontologies/2025/smart-technical-advisory-ontology/SAPService\n",
      "http://www.semanticweb.org/ontologies/2025/smart-technical-advisory-ontology/GTMRoute\n",
      "http://www.semanticweb.org/ontologies/2025/smart-technical-advisory-ontology/SAPServiceType\n",
      "http://www.semanticweb.org/ontologies/2025/smart-technical-advisory-ontology/SAPOrganization\n",
      "http://www.semanticweb.org/ontologies/2025/smart-technical-advisory-ontology/SAPAIScenario\n",
      "http://www.semanticweb.org/ontologies/2025/smart-technical-advisory-ontology/Industry\n",
      "http://www.semanticweb.org/ontologies/2025/smart-technical-advisory-ontology/Country\n",
      "http://www.semanticweb.org/ontologies/2025/smart-technical-advisory-ontology/Product\n",
      "http://www.semanticweb.org/ontologies/2025/smart-technical-advisory-ontology/SAPPartnerEmployee\n",
      "http://www.semanticweb.org/ontologies/2025/smart-technical-advisory-ontology/SAPPartnershipType\n",
      "http://www.semanticweb.org/ontologies/2025/smart-technical-advisory-ontology/LoB\n",
      "https://www.omg.org/spec/LCC/Countries/CountryRepresentation/Country\n",
      "_:b2147499710\n",
      "_:b2147499712\n",
      "_:b2147499715\n",
      "_:b2147499717\n",
      "_:b2147499720\n",
      "_:b2147499722\n",
      "_:b2147499723\n",
      "_:b2147499735\n",
      "_:b2147499737\n",
      "_:b2147499740\n",
      "_:b2147499742\n",
      "_:b2147499745\n",
      "_:b2147499747\n",
      "_:b2147499752\n",
      "http://www.semanticweb.org/ontologies/2025/smart-technical-advisory-ontology/SAPServiceRequest\n",
      "http://www.semanticweb.org/ontologies/2025/smart-technical-advisory-ontology/SAPRegion\n",
      "http://www.semanticweb.org/ontologies/2025/smart-technical-advisory-ontology/SAPEmployee\n",
      "http://www.semanticweb.org/ontologies/2025/smart-technical-advisory-ontology/GTMOutcome\n",
      "http://www.semanticweb.org/ontologies/2025/smart-technical-advisory-ontology/SAPPartner\n",
      "http://www.semanticweb.org/ontologies/2025/smart-technical-advisory-ontology/RequiredSupport\n",
      "http://www.semanticweb.org/ontologies/2025/smart-technical-advisory-ontology/SAPProgramInitiative\n",
      "http://www.semanticweb.org/ontologies/2025/smart-technical-advisory-ontology/SAPBTPScenario\n",
      "http://www.semanticweb.org/ontologies/2025/smart-technical-advisory-ontology/SAPPartnerType\n",
      "http://www.semanticweb.org/ontologies/2025/smart-technical-advisory-ontology/SourceOfRequest\n",
      "http://www.semanticweb.org/ontologies/2025/smart-technical-advisory-ontology/SAPServiceRequestInitiator\n",
      "http://www.semanticweb.org/ontologies/2025/smart-technical-advisory-ontology/COILExpert\n",
      "http://www.semanticweb.org/ontologies/2025/smart-technical-advisory-ontology/BTPSolutionArchitect\n",
      "http://www.semanticweb.org/ontologies/2025/smart-technical-advisory-ontology/NamedIndividual\n",
      "http://www.semanticweb.org/ontologies/2025/smart-technical-advisory-ontology/SAPPartnerContact\n",
      "_:b6442466910\n",
      "_:b6442466917\n",
      "_:b6442466918\n",
      "_:b6442466934\n",
      "_:b6442466940\n",
      "_:b6442466944\n",
      "\n"
     ]
    }
   ],
   "source": [
    "# Obtain a list of classes in the ontology\n",
    "query = \"\"\"\n",
    "    prefix rdf: <http://www.w3.org/1999/02/22-rdf-syntax-ns#>\n",
    "    prefix rdfs: <http://www.w3.org/2000/01/rdf-schema#>\n",
    "    prefix : <http://www.semanticweb.org/ontologies/2025/smart-technical-advisory-ontology/> \n",
    "    prefix owl: <http://www.w3.org/2002/07/owl#> \n",
    "    \n",
    "    SELECT DISTINCT ?c\n",
    "    FROM <http://www.semanticweb.org/ontologies/2025/smart-technical-advisory-rdf-v4>\n",
    "    WHERE {\n",
    "        ?c a owl:Class\n",
    "    }\n",
    "\"\"\"\n",
    "resp = conn.cursor().callproc('SPARQL_EXECUTE', (query, 'Accept: application/sparql-results+csv', '?', None) )\n",
    "print(resp[2]) "
   ]
  },
  {
   "cell_type": "code",
   "execution_count": 19,
   "id": "47ff72e2-386d-4822-86a2-35a9c2d3c94d",
   "metadata": {},
   "outputs": [
    {
     "name": "stdout",
     "output_type": "stream",
     "text": [
      "p\n",
      "http://www.semanticweb.org/ontologies/2025/smart-technical-advisory-ontology/involves\n",
      "http://www.semanticweb.org/ontologies/2025/smart-technical-advisory-ontology/requestedBy\n",
      "http://www.semanticweb.org/ontologies/2025/smart-technical-advisory-ontology/aiScenarioType\n",
      "http://www.semanticweb.org/ontologies/2025/smart-technical-advisory-ontology/belongsToIndustry\n",
      "http://www.semanticweb.org/ontologies/2025/smart-technical-advisory-ontology/belongsToServiceRequest\n",
      "http://www.semanticweb.org/ontologies/2025/smart-technical-advisory-ontology/consistsOf\n",
      "http://www.semanticweb.org/ontologies/2025/smart-technical-advisory-ontology/hasGTMOutcome\n",
      "http://www.semanticweb.org/ontologies/2025/smart-technical-advisory-ontology/hasPartnerType\n",
      "http://www.semanticweb.org/ontologies/2025/smart-technical-advisory-ontology/modifiedBy\n",
      "http://www.semanticweb.org/ontologies/2025/smart-technical-advisory-ontology/ofCountry\n",
      "http://www.semanticweb.org/ontologies/2025/smart-technical-advisory-ontology/relatesToLoB\n",
      "http://www.semanticweb.org/ontologies/2025/smart-technical-advisory-ontology/responsiblePerson\n",
      "http://www.semanticweb.org/ontologies/2025/smart-technical-advisory-ontology/coversProduct\n",
      "http://www.semanticweb.org/ontologies/2025/smart-technical-advisory-ontology/hasPartnershipType\n",
      "http://www.semanticweb.org/ontologies/2025/smart-technical-advisory-ontology/serviceType\n",
      "http://www.semanticweb.org/ontologies/2025/smart-technical-advisory-ontology/btpScenarioType\n",
      "http://www.semanticweb.org/ontologies/2025/smart-technical-advisory-ontology/deliveredBy\n",
      "http://www.semanticweb.org/ontologies/2025/smart-technical-advisory-ontology/executedBy\n",
      "http://www.semanticweb.org/ontologies/2025/smart-technical-advisory-ontology/hasGTMRoute\n",
      "http://www.semanticweb.org/ontologies/2025/smart-technical-advisory-ontology/hasPartnerContact\n",
      "http://www.semanticweb.org/ontologies/2025/smart-technical-advisory-ontology/hasSAPContact\n",
      "http://www.semanticweb.org/ontologies/2025/smart-technical-advisory-ontology/hasUseCase\n",
      "http://www.semanticweb.org/ontologies/2025/smart-technical-advisory-ontology/involvedIn\n",
      "http://www.semanticweb.org/ontologies/2025/smart-technical-advisory-ontology/isEmployedBy\n",
      "http://www.semanticweb.org/ontologies/2025/smart-technical-advisory-ontology/requested\n",
      "http://www.semanticweb.org/ontologies/2025/smart-technical-advisory-ontology/requiredSupport\n",
      "http://www.semanticweb.org/ontologies/2025/smart-technical-advisory-ontology/belongsToSAPProgram\n",
      "http://www.semanticweb.org/ontologies/2025/smart-technical-advisory-ontology/belongsToSAPRegion\n",
      "http://www.semanticweb.org/ontologies/2025/smart-technical-advisory-ontology/createdBy\n",
      "http://www.semanticweb.org/ontologies/2025/smart-technical-advisory-ontology/sourceOfRequest\n",
      "http://www.semanticweb.org/ontologies/2025/smart-technical-advisory-ontology/relatesToServiceRequest\n",
      "http://www.semanticweb.org/ontologies/2025/smart-technical-advisory-ontology/wasInitiatedBy\n",
      "\n"
     ]
    }
   ],
   "source": [
    "# Obtain a list of object properties in the ontology\n",
    "query = \"\"\"\n",
    "    prefix rdf: <http://www.w3.org/1999/02/22-rdf-syntax-ns#>\n",
    "    prefix rdfs: <http://www.w3.org/2000/01/rdf-schema#>\n",
    "    prefix : <http://www.semanticweb.org/ontologies/2025/smart-technical-advisory-ontology/> \n",
    "    prefix owl: <http://www.w3.org/2002/07/owl#> \n",
    "    \n",
    "    SELECT DISTINCT ?p\n",
    "    FROM <http://www.semanticweb.org/ontologies/2025/smart-technical-advisory-rdf-v4>\n",
    "    WHERE {\n",
    "        ?p a owl:ObjectProperty\n",
    "    }\n",
    "\"\"\"\n",
    "resp = conn.cursor().callproc('SPARQL_EXECUTE', (query, 'Accept: application/sparql-results+csv', '?', None) )\n",
    "print(resp[2]) "
   ]
  },
  {
   "cell_type": "code",
   "execution_count": 20,
   "id": "88f0f90c-e232-49bb-86ef-56ad46876b62",
   "metadata": {},
   "outputs": [
    {
     "name": "stdout",
     "output_type": "stream",
     "text": [
      "p\n",
      "http://www.semanticweb.org/ontologies/2025/smart-technical-advisory-ontology/category\n",
      "http://www.semanticweb.org/ontologies/2025/smart-technical-advisory-ontology/completionDate\n",
      "http://www.semanticweb.org/ontologies/2025/smart-technical-advisory-ontology/hasTitle\n",
      "http://www.semanticweb.org/ontologies/2025/smart-technical-advisory-ontology/hasValue\n",
      "http://www.semanticweb.org/ontologies/2025/smart-technical-advisory-ontology/isBTPUseCase\n",
      "http://www.semanticweb.org/ontologies/2025/smart-technical-advisory-ontology/isFreeService\n",
      "http://www.semanticweb.org/ontologies/2025/smart-technical-advisory-ontology/legalIPOwner\n",
      "http://www.semanticweb.org/ontologies/2025/smart-technical-advisory-ontology/partnerStatus\n",
      "http://www.semanticweb.org/ontologies/2025/smart-technical-advisory-ontology/plannedGoLiveDate\n",
      "http://www.semanticweb.org/ontologies/2025/smart-technical-advisory-ontology/productName\n",
      "http://www.semanticweb.org/ontologies/2025/smart-technical-advisory-ontology/productPublicName\n",
      "http://www.semanticweb.org/ontologies/2025/smart-technical-advisory-ontology/productType\n",
      "http://www.semanticweb.org/ontologies/2025/smart-technical-advisory-ontology/revenue\n",
      "http://www.semanticweb.org/ontologies/2025/smart-technical-advisory-ontology/solutionArea\n",
      "http://www.semanticweb.org/ontologies/2025/smart-technical-advisory-ontology/hasDescription\n",
      "http://www.semanticweb.org/ontologies/2025/smart-technical-advisory-ontology/startDate\n",
      "http://www.semanticweb.org/ontologies/2025/smart-technical-advisory-ontology/accountName\n",
      "http://www.semanticweb.org/ontologies/2025/smart-technical-advisory-ontology/countryCode\n",
      "http://www.semanticweb.org/ontologies/2025/smart-technical-advisory-ontology/hasCustomer\n",
      "http://www.semanticweb.org/ontologies/2025/smart-technical-advisory-ontology/hasID\n",
      "http://www.semanticweb.org/ontologies/2025/smart-technical-advisory-ontology/hasPBCOrderNumber\n",
      "http://www.semanticweb.org/ontologies/2025/smart-technical-advisory-ontology/hasStatus\n",
      "http://www.semanticweb.org/ontologies/2025/smart-technical-advisory-ontology/isAIUseCase\n",
      "http://www.semanticweb.org/ontologies/2025/smart-technical-advisory-ontology/createdOnDate\n",
      "http://www.semanticweb.org/ontologies/2025/smart-technical-advisory-ontology/hasName\n",
      "http://www.semanticweb.org/ontologies/2025/smart-technical-advisory-ontology/hasSolution\n",
      "http://www.semanticweb.org/ontologies/2025/smart-technical-advisory-ontology/isDeleted\n",
      "http://www.semanticweb.org/ontologies/2025/smart-technical-advisory-ontology/isGSSP\n",
      "http://www.semanticweb.org/ontologies/2025/smart-technical-advisory-ontology/modifiedOnDate\n",
      "http://www.semanticweb.org/ontologies/2025/smart-technical-advisory-ontology/requestDate\n",
      "http://www.semanticweb.org/ontologies/2025/smart-technical-advisory-ontology/solutionSubArea\n",
      "http://www.semanticweb.org/ontologies/2025/smart-technical-advisory-ontology/useCaseStatus\n",
      "\n"
     ]
    }
   ],
   "source": [
    "# Obtain a list of datatype properties in the ontology\n",
    "query = \"\"\"\n",
    "    prefix rdf: <http://www.w3.org/1999/02/22-rdf-syntax-ns#>\n",
    "    prefix rdfs: <http://www.w3.org/2000/01/rdf-schema#>\n",
    "    prefix : <http://www.semanticweb.org/ontologies/2025/smart-technical-advisory-ontology/> \n",
    "    prefix owl: <http://www.w3.org/2002/07/owl#> \n",
    "    \n",
    "    SELECT DISTINCT ?p\n",
    "    FROM <http://www.semanticweb.org/ontologies/2025/smart-technical-advisory-rdf-v4>\n",
    "    WHERE {\n",
    "        ?p a owl:DatatypeProperty\n",
    "    }\n",
    "\"\"\"\n",
    "resp = conn.cursor().callproc('SPARQL_EXECUTE', (query, 'Accept: application/sparql-results+csv', '?', None) )\n",
    "print(resp[2]) "
   ]
  },
  {
   "cell_type": "code",
   "execution_count": 21,
   "id": "af0d3894-ae3d-42c6-b964-e355d268cc8e",
   "metadata": {},
   "outputs": [
    {
     "name": "stdout",
     "output_type": "stream",
     "text": [
      "partnerRef,partnerName,regionName\n",
      "http://www.semanticweb.org/ontologies/2025/smart-technical-advisory-ontology/Partner2310370,Hogwarts Consulting,Middle & Eastern Europe\n",
      "\n"
     ]
    }
   ],
   "source": [
    "# Look for a certain partner in a certain region\n",
    "query = \"\"\"\n",
    "    prefix rdf: <http://www.w3.org/1999/02/22-rdf-syntax-ns#>\n",
    "    prefix rdfs: <http://www.w3.org/2000/01/rdf-schema#>\n",
    "    prefix : <http://www.semanticweb.org/ontologies/2025/smart-technical-advisory-ontology/> \n",
    "    prefix owl: <http://www.w3.org/2002/07/owl#> \n",
    "\n",
    "    SELECT ?partnerRef ?partnerName ?regionName\n",
    "    \tFROM <http://www.semanticweb.org/ontologies/2025/smart-technical-advisory-rdf-v4>\n",
    "    \tWHERE {\n",
    "        \t?partnerRef a :SAPPartner ; \n",
    "                :accountName ?partnerName ;\n",
    "                :ofCountry ?countryRef ;\n",
    "                :partnerStatus 'Active' .\n",
    "            ?countryRef :belongsToSAPRegion ?regionRef .\n",
    "            ?regionRef :hasName ?regionName .\n",
    "            FILTER regex(?partnerName, \"Hogwarts\", \"i\") .\n",
    "            FILTER regex(?regionName, \"Middle & Eastern Europe\", \"i\") .\n",
    "    }\n",
    "    LIMIT 100\n",
    "\"\"\"\n",
    "resp = conn.cursor().callproc('SPARQL_EXECUTE', (query, 'Accept: application/sparql-results+csv', '?', None) )\n",
    "print(resp[2]) "
   ]
  },
  {
   "cell_type": "code",
   "execution_count": 22,
   "id": "d6391121-741c-48d3-a1cd-bf4d9d2869be",
   "metadata": {},
   "outputs": [
    {
     "name": "stdout",
     "output_type": "stream",
     "text": [
      "psrRef,serviceRef,serviceTypeName,productName,sapPersonName\n",
      "http://www.semanticweb.org/ontologies/2025/smart-technical-advisory-ontology/ServiceRequest85ef55b1-e74a-4be5-b7e3-835873ffcb06,http://www.semanticweb.org/ontologies/2025/smart-technical-advisory-ontology/Service39b8384b-8924-4338-9677-8082eef59ae8,SAP BTP Technical Advisory,Business One,John Legend\n",
      "\n"
     ]
    }
   ],
   "source": [
    "# Find all the service requests where the service was a TA and show who delivered the service\n",
    "query = \"\"\"\n",
    "    prefix rdf: <http://www.w3.org/1999/02/22-rdf-syntax-ns#>\n",
    "    prefix rdfs: <http://www.w3.org/2000/01/rdf-schema#>\n",
    "    prefix : <http://www.semanticweb.org/ontologies/2025/smart-technical-advisory-ontology/> \n",
    "    prefix owl: <http://www.w3.org/2002/07/owl#>\n",
    "    prefix foaf:  <http://xmlns.com/foaf/0.1/>\n",
    "\n",
    "    SELECT ?psrRef ?serviceRef ?serviceTypeName ?productName ?sapPersonName\n",
    "    \tFROM <http://www.semanticweb.org/ontologies/2025/smart-technical-advisory-rdf-v4>\n",
    "    \tWHERE {\n",
    "            ?serviceRef a :SAPService ;   \n",
    "                :relatesToServiceRequest ?psrRef ;\n",
    "                :serviceType ?serviceTypeRef ;\n",
    "                :deliveredBy ?sapPersonRef .\n",
    "            ?sapPersonRef foaf:name ?sapPersonName .\n",
    "            ?serviceTypeRef :hasName ?serviceTypeName .\n",
    "            ?psrRef :coversProduct ?productRef .\n",
    "            ?productRef :productName ?productName .\n",
    "    }\n",
    "    LIMIT 10\n",
    "\"\"\"\n",
    "resp = conn.cursor().callproc('SPARQL_EXECUTE', (query, 'Accept: application/sparql-results+csv', '?', None) )\n",
    "print(resp[2]) "
   ]
  },
  {
   "cell_type": "code",
   "execution_count": 23,
   "id": "e739fe7f-261f-49bc-8931-b4af22348ceb",
   "metadata": {},
   "outputs": [
    {
     "name": "stdout",
     "output_type": "stream",
     "text": [
      "true\n"
     ]
    }
   ],
   "source": [
    "#ASK Returns a boolean indicating whether a query pattern matches or not.\n",
    "query = \"\"\"\n",
    "    prefix rdf: <http://www.w3.org/1999/02/22-rdf-syntax-ns#>\n",
    "    prefix rdfs: <http://www.w3.org/2000/01/rdf-schema#>\n",
    "    prefix : <http://www.semanticweb.org/ontologies/2025/smart-technical-advisory-ontology/> \n",
    "    prefix owl: <http://www.w3.org/2002/07/owl#>\n",
    "    prefix foaf:  <http://xmlns.com/foaf/0.1/>\n",
    "    \n",
    "    ASK\n",
    "    FROM <http://www.semanticweb.org/ontologies/2025/smart-technical-advisory-rdf-v4>\n",
    "    WHERE {\n",
    "    \t?sapPersonRef a :SAPEmployee ;\n",
    "            foaf:member :SAPOrg1 .\n",
    "    }\n",
    "\"\"\"\n",
    "resp = conn.cursor().callproc('SPARQL_EXECUTE', (query, 'Accept: application/sparql-results+csv', '?', None) )\n",
    "print(resp[2]) "
   ]
  },
  {
   "cell_type": "code",
   "execution_count": 24,
   "id": "08cddbee-cb75-4d68-af8f-8593a390cca0",
   "metadata": {},
   "outputs": [
    {
     "name": "stdout",
     "output_type": "stream",
     "text": [
      "sapPersonRef\n",
      "http://www.semanticweb.org/ontologies/2025/smart-technical-advisory-ontology/john.legend@sap.com\n",
      "http://www.semanticweb.org/ontologies/2025/smart-technical-advisory-ontology#xxxx.yyyyy@sap.com\n",
      "\n"
     ]
    }
   ],
   "source": [
    "# SAP employes that are also BTP SA\n",
    "query = \"\"\"\n",
    "    prefix rdf: <http://www.w3.org/1999/02/22-rdf-syntax-ns#>\n",
    "    prefix rdfs: <http://www.w3.org/2000/01/rdf-schema#>\n",
    "    prefix : <http://www.semanticweb.org/ontologies/2025/smart-technical-advisory-ontology/> \n",
    "    prefix owl: <http://www.w3.org/2002/07/owl#>\n",
    "    prefix foaf:  <http://xmlns.com/foaf/0.1/>\n",
    "    \n",
    "    SELECT *\n",
    "    FROM <http://www.semanticweb.org/ontologies/2025/smart-technical-advisory-rdf-v4>\n",
    "    WHERE {\n",
    "    \t?sapPersonRef a :SAPEmployee ;\n",
    "            foaf:member :SAPOrg1 .\n",
    "    }\n",
    "\"\"\"\n",
    "resp = conn.cursor().callproc('SPARQL_EXECUTE', (query, 'Accept: application/sparql-results+csv', '?', None) )\n",
    "print(resp[2]) "
   ]
  },
  {
   "cell_type": "code",
   "execution_count": 25,
   "id": "ee10f64a-40c8-41b4-90a4-19cb8102e6cb",
   "metadata": {},
   "outputs": [
    {
     "name": "stdout",
     "output_type": "stream",
     "text": [
      "sapPersonName,psrCount,serviceCount,btpCount,aiCount\n",
      "John Legend,1,1,1,0\n",
      "\n"
     ]
    }
   ],
   "source": [
    "# Find how many TAs have been delivered by each BTP SA\n",
    "query = \"\"\"\n",
    "    prefix rdf: <http://www.w3.org/1999/02/22-rdf-syntax-ns#>\n",
    "    prefix rdfs: <http://www.w3.org/2000/01/rdf-schema#>\n",
    "    prefix : <http://www.semanticweb.org/ontologies/2025/smart-technical-advisory-ontology/> \n",
    "    prefix owl: <http://www.w3.org/2002/07/owl#>\n",
    "    prefix foaf:  <http://xmlns.com/foaf/0.1/>\n",
    "\n",
    "    SELECT \n",
    "            ?sapPersonName \n",
    "            (COUNT(?psrRef) AS ?psrCount) (COUNT(?serviceRef) AS ?serviceCount)\n",
    "            (COUNT(?btpRef) AS ?btpCount) (COUNT(?aiRef) AS ?aiCount)\n",
    "    \tFROM <http://www.semanticweb.org/ontologies/2025/smart-technical-advisory-rdf-v4>\n",
    "    \tWHERE {\n",
    "            ?serviceRef a :SAPService ;\n",
    "                :serviceType ?serviceTypeRef ;\n",
    "                :relatesToServiceRequest ?psrRef ;\n",
    "                :deliveredBy ?sapPersonRef .\n",
    "            ?sapPersonRef foaf:name ?sapPersonName ;\n",
    "                foaf:member :SAPOrg1 .\n",
    "            ?psrRef :hasUseCase ?useCaseRef .\n",
    "            OPTIONAL \n",
    "                {?useCaseRef :btpScenarioType ?btpRef .}\n",
    "            OPTIONAL \n",
    "                {?useCaseRef :aiScenarioType ?aiRef .}\n",
    "            ?serviceTypeRef :hasName ?serviceTypeName .            \n",
    "            FILTER regex(?serviceTypeName, \"SAP BTP Technical Advisory\", \"i\") .\n",
    "    } GROUP BY ?sapPersonName\n",
    "    ORDER BY ?sapPersonName\n",
    "\"\"\"\n",
    "resp = conn.cursor().callproc('SPARQL_EXECUTE', (query, 'Accept: application/sparql-results+csv', '?', None) )\n",
    "print(resp[2]) "
   ]
  },
  {
   "cell_type": "markdown",
   "id": "deb3ee5b-ddb6-4bed-884f-7da0a701def3",
   "metadata": {},
   "source": [
    "## Other queries"
   ]
  },
  {
   "cell_type": "code",
   "execution_count": 26,
   "id": "0b275900-38c9-49b2-a6a4-3b14dc1e9079",
   "metadata": {},
   "outputs": [
    {
     "name": "stdout",
     "output_type": "stream",
     "text": [
      "@prefix xsd: <http://www.w3.org/2001/XMLSchema#>.\n",
      "<http://www.semanticweb.org/ontologies/2025/smart-technical-advisory-ontology/UseCase> <http://www.w3.org/1999/02/22-rdf-syntax-ns#type> <http://www.w3.org/2002/07/owl#Class> .\n",
      "<http://www.semanticweb.org/ontologies/2025/smart-technical-advisory-ontology/SAPService> <http://www.w3.org/1999/02/22-rdf-syntax-ns#type> <http://www.w3.org/2002/07/owl#Class> .\n",
      "<http://www.semanticweb.org/ontologies/2025/smart-technical-advisory-ontology/involves> <http://www.w3.org/1999/02/22-rdf-syntax-ns#type> <http://www.w3.org/2002/07/owl#ObjectProperty> .\n",
      "<http://www.semanticweb.org/ontologies/2025/smart-technical-advisory-ontology/GTMRoute> <http://www.w3.org/1999/02/22-rdf-syntax-ns#type> <http://www.w3.org/2002/07/owl#Class> .\n",
      "<http://www.semanticweb.org/ontologies/2025/smart-technical-advisory-ontology/SAPServiceType> <http://www.w3.org/1999/02/22-rdf-syntax-ns#type> <http://www.w3.org/2002/07/owl#Class> .\n",
      "<http://www.semanticweb.org/ontologies/2025/smart-technical-advisory-ontology/requestedBy> <http://www.w3.org/1999/02/22-rdf-syntax-ns#type> <http://www.w3.org/2002/07/owl#ObjectProperty> .\n",
      "<http://www.semanticweb.org/ontologies/2025/smart-technical-advisory-ontology/SAPOrganization> <http://www.w3.org/1999/02/22-rdf-syntax-ns#type> <http://www.w3.org/2002/07/owl#Class> .\n",
      "<http://www.semanticweb.org/ontologies/2025/smart-technical-advisory-ontology/SAPAIScenario> <http://www.w3.org/1999/02/22-rdf-syntax-ns#type> <http://www.w3.org/2002/07/owl#Class> .\n",
      "<http://www.semanticweb.org/ontologies/2025/smart-technical-advisory-ontology/Industry> <http://www.w3.org/1999/02/22-rdf-syntax-ns#type> <http://www.w3.org/2002/07/owl#Class> .\n",
      "<http://www.semanticweb.org/ontologies/2025/smart-technical-advisory-ontology/requestedBy> <http://www.w3.org/1999/02/22-rdf-syntax-ns#type> <http://www.w3.org/2002/07/owl#FunctionalProperty> .\n",
      "\n"
     ]
    }
   ],
   "source": [
    "# Get the onthology schema \n",
    "query = \"\"\"\n",
    "    CONSTRUCT {?s ?p ?o} FROM <http://www.semanticweb.org/ontologies/2025/smart-technical-advisory-rdf-v4> \n",
    "    WHERE {?s ?p ?o}\n",
    "    LIMIT 10\n",
    "\"\"\"\n",
    "resp = conn.cursor().callproc('SPARQL_EXECUTE', (query, 'Accept: application/sparql-results+csv', '?', None) )\n",
    "print(resp[2])"
   ]
  },
  {
   "cell_type": "code",
   "execution_count": 27,
   "id": "b0a6ecb9-7d3e-4acf-9d7f-f9bf427ebdf9",
   "metadata": {},
   "outputs": [
    {
     "name": "stdout",
     "output_type": "stream",
     "text": [
      "op,com\n",
      "http://www.semanticweb.org/ontologies/2025/smart-technical-advisory-ontology/legalIPOwner,It indicates the legal owner of the intellectual property of a certain product.\n",
      "http://www.semanticweb.org/ontologies/2025/smart-technical-advisory-ontology/partnerStatus,\"It indicates the status of the SAP partner. It can have the following values:\n",
      "\"\"Prospective Partner\"\"\n",
      "\"\"Active\"\"\n",
      "\"\"Discontinued\"\"\"\n",
      "http://www.semanticweb.org/ontologies/2025/smart-technical-advisory-ontology/plannedGoLiveDate,It indicates the planned go-live date of the solution (if specified) that the service request helped develop.\n",
      "http://www.semanticweb.org/ontologies/2025/smart-technical-advisory-ontology/solutionArea,\"It indicates the solution area of the product. It can have the following values:\n",
      "\"\"HXM\"\"\n",
      "\"\"BPI\"\"\n",
      "\"\"BTP\"\"\n",
      "\"\"S4\"\"\n",
      "\"\"CX\"\"\n",
      "\"\"WCM\"\"\n",
      "\"\"Cross\"\"\n",
      "\"\"XM\"\"\n",
      "\"\"ISBN\"\"\"\n",
      "http://www.semanticweb.org/ontologies/2025/smart-technical-advisory-ontology/hasDescription,This property is used to provide the description of the use case or SAP organization or the service offered by SAP.\n",
      "http://www.semanticweb.org/ontologies/2025/smart-technical-advisory-ontology/isBTPUseCase,It marks whether the use case involves BTP or not.\n",
      "http://www.semanticweb.org/ontologies/2025/smart-technical-advisory-ontology/productName,It indicates the name of the software product.\n",
      "http://www.semanticweb.org/ontologies/2025/smart-technical-advisory-ontology/revenue,It indicates the revenue earned from the delivery of a certain service.\n",
      "http://www.semanticweb.org/ontologies/2025/smart-technical-advisory-ontology/startDate,It is a property of the service class. It indicates the date the delivery of the requested service began.\n",
      "http://www.semanticweb.org/ontologies/2025/smart-technical-advisory-ontology/hasPartnerContact,It indicates the partner contact person for the service request\n",
      "\n"
     ]
    }
   ],
   "source": [
    "#Get properties and their comments\n",
    "query = \"\"\"\n",
    "    prefix rdf: <http://www.w3.org/1999/02/22-rdf-syntax-ns#>\n",
    "    prefix rdfs: <http://www.w3.org/2000/01/rdf-schema#>\n",
    "    prefix : <http://www.semanticweb.org/ontologies/2025/smart-technical-advisory-ontology/> \n",
    "    prefix owl: <http://www.w3.org/2002/07/owl#>\n",
    "    prefix foaf:  <http://xmlns.com/foaf/0.1/>\n",
    "    \n",
    "    SELECT DISTINCT ?op ?com \n",
    "    FROM <http://www.semanticweb.org/ontologies/2025/smart-technical-advisory-rdf-v4> \n",
    "    WHERE { \n",
    "        {?op rdf:type owl:ObjectProperty .}\n",
    "        UNION\n",
    "        {?op rdf:type owl:DatatypeProperty .}\n",
    "        ?op rdfs:comment ?com .\n",
    "    }\n",
    "    LIMIT 10\n",
    "\"\"\"\n",
    "\n",
    "resp = conn.cursor().callproc('SPARQL_EXECUTE', (query, 'Accept: application/sparql-results+csv', '?', None) )\n",
    "print(resp[2])"
   ]
  },
  {
   "cell_type": "code",
   "execution_count": 28,
   "id": "e4c1d036-e8e0-4425-9d5a-0230e9909d4e",
   "metadata": {},
   "outputs": [
    {
     "name": "stdout",
     "output_type": "stream",
     "text": [
      "cls,com\n",
      "http://www.semanticweb.org/ontologies/2025/smart-technical-advisory-ontology/GTMOutcome,Outcome of the Go-to-Market process if there is one related to the service request submitted.\n",
      "http://www.semanticweb.org/ontologies/2025/smart-technical-advisory-ontology/RequiredSupport,Type of support required for the service.\n",
      "http://www.semanticweb.org/ontologies/2025/smart-technical-advisory-ontology/SAPBTPScenario,\"Possible scenario when implementing a solution on SAP BTP. It can be one of the following:\n",
      "'Data-to-Value'\n",
      "'Extensibility'\n",
      "'Integration'\"\n",
      "http://www.semanticweb.org/ontologies/2025/smart-technical-advisory-ontology/SourceOfRequest,\"Channels through which the request can arrive. It can be:\n",
      "'PCD E-Mail'\n",
      "'PBC request'\n",
      "'Internal'\n",
      "'Others'\"\n",
      "http://www.semanticweb.org/ontologies/2025/smart-technical-advisory-ontology/SAPServiceRequest,Formal coaching request sent by an SAP partner to SAP. A single request may be used to request multiple services.\n",
      "http://www.semanticweb.org/ontologies/2025/smart-technical-advisory-ontology/SAPRegion,Class of SAP business regions.\n",
      "http://www.semanticweb.org/ontologies/2025/smart-technical-advisory-ontology/SAPEmployee,Person who is employed by SAP and that is involved in the coaching services.\n",
      "http://www.semanticweb.org/ontologies/2025/smart-technical-advisory-ontology/SAPPartner,Company that is in a certain business relationship with SAP\n",
      "http://www.semanticweb.org/ontologies/2025/smart-technical-advisory-ontology/SAPProgramInitiative,SAP program initiative to which the request is associated.\n",
      "http://www.semanticweb.org/ontologies/2025/smart-technical-advisory-ontology/SAPPartnerType,Type of SAP partner.\n",
      "\n"
     ]
    }
   ],
   "source": [
    "#Get classes and their comments\n",
    "query = \"\"\"\n",
    "    prefix rdf: <http://www.w3.org/1999/02/22-rdf-syntax-ns#>\n",
    "    prefix rdfs: <http://www.w3.org/2000/01/rdf-schema#>\n",
    "    prefix : <http://www.semanticweb.org/ontologies/2025/smart-technical-advisory-ontology/> \n",
    "    prefix owl: <http://www.w3.org/2002/07/owl#>\n",
    "    prefix foaf:  <http://xmlns.com/foaf/0.1/>\n",
    "\n",
    "    SELECT DISTINCT ?cls ?com\n",
    "    FROM <http://www.semanticweb.org/ontologies/2025/smart-technical-advisory-rdf-v4> \n",
    "    WHERE { \n",
    "        ?cls rdf:type owl:Class . \n",
    "        FILTER (isIRI(?cls)) . \n",
    "        OPTIONAL { ?cls rdfs:comment ?com } \n",
    "    }\n",
    "    LIMIT 10\n",
    "\"\"\"\n",
    "\n",
    "resp = conn.cursor().callproc('SPARQL_EXECUTE', (query, 'Accept: application/sparql-results+csv', '?', None) )\n",
    "print(resp[2])"
   ]
  },
  {
   "cell_type": "code",
   "execution_count": null,
   "id": "a3e37918",
   "metadata": {},
   "outputs": [
    {
     "name": "stderr",
     "output_type": "stream",
     "text": [
      "100%|██████████| 1/1 [00:00<00:00,  3.58it/s]\n"
     ]
    },
    {
     "ename": "AttributeError",
     "evalue": "'int' object has no attribute 'collect'",
     "output_type": "error",
     "traceback": [
      "\u001b[31m---------------------------------------------------------------------------\u001b[39m",
      "\u001b[31mAttributeError\u001b[39m                            Traceback (most recent call last)",
      "\u001b[36mCell\u001b[39m\u001b[36m \u001b[39m\u001b[32mIn[43]\u001b[39m\u001b[32m, line 23\u001b[39m\n\u001b[32m     14\u001b[39m \u001b[38;5;66;03m# 3. Upload CSV into HANA table\u001b[39;00m\n\u001b[32m     15\u001b[39m df_hana = create_dataframe_from_pandas(\n\u001b[32m     16\u001b[39m     connection_context=conn,   \u001b[38;5;66;03m# <-- correct parameter name\u001b[39;00m\n\u001b[32m     17\u001b[39m     pandas_df=df,\n\u001b[32m   (...)\u001b[39m\u001b[32m     20\u001b[39m     force=\u001b[38;5;28;01mTrue\u001b[39;00m  \u001b[38;5;66;03m# overwrite if table exists\u001b[39;00m\n\u001b[32m     21\u001b[39m )\n\u001b[32m---> \u001b[39m\u001b[32m23\u001b[39m \u001b[38;5;28mprint\u001b[39m(\u001b[33m\"\u001b[39m\u001b[33mUpload successful! Rows:\u001b[39m\u001b[33m\"\u001b[39m, \u001b[43mdf_hana\u001b[49m\u001b[43m.\u001b[49m\u001b[43mcount\u001b[49m\u001b[43m(\u001b[49m\u001b[43m)\u001b[49m\u001b[43m.\u001b[49m\u001b[43mcollect\u001b[49m())\n",
      "\u001b[31mAttributeError\u001b[39m: 'int' object has no attribute 'collect'"
     ]
    }
   ],
   "source": [
    "import pandas as pd\n",
    "from hana_ml.dataframe import ConnectionContext, create_dataframe_from_pandas\n",
    "\n",
    "# 1. Load CSV\n",
    "df = pd.read_csv(\"/Users/i757416/Documents/GitHub/btp-generative-ai-hub-use-cases/51-Knowledge-Graph-Explicit-knowledge-representation-and-reasoning/backend/db/content_advisories_table.sql.csv\")  # your CSV file\n",
    "\n",
    "conn = ConnectionContext(\n",
    "    address=\"291933b3-a304-499f-8649-14ec7ce3ce9a.hana.prod-ap10.hanacloud.ondemand.com\",\n",
    "    port=443,\n",
    "    user=\"DBUSER\",\n",
    "    password=\"Testing123\",\n",
    ")\n",
    "\n",
    "# 3. Upload CSV into HANA table\n",
    "df_hana = create_dataframe_from_pandas(\n",
    "    connection_context=conn,   # <-- correct parameter name\n",
    "    pandas_df=df,\n",
    "    table_name=\"ADVISORIES4\",\n",
    "    schema=\"DBUSER\",\n",
    "    force=True  # overwrite if table exists\n",
    ")\n",
    "\n",
    "print(\"Upload successful!\")"
   ]
  }
 ],
 "metadata": {
  "kernelspec": {
   "display_name": ".venv",
   "language": "python",
   "name": "python3"
  },
  "language_info": {
   "codemirror_mode": {
    "name": "ipython",
    "version": 3
   },
   "file_extension": ".py",
   "mimetype": "text/x-python",
   "name": "python",
   "nbconvert_exporter": "python",
   "pygments_lexer": "ipython3",
   "version": "3.11.9"
  }
 },
 "nbformat": 4,
 "nbformat_minor": 5
}
