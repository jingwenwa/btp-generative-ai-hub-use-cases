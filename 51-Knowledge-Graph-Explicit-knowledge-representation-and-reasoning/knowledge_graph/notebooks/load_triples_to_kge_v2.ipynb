{
 "cells": [
  {
   "cell_type": "markdown",
   "id": "c28092c7-ee01-4f1a-9920-65a8a51d4061",
   "metadata": {},
   "source": [
    "# Load triples to HANA Cloud KG Engine"
   ]
  },
  {
   "cell_type": "code",
   "execution_count": 32,
   "id": "d0d7f2f9-d563-4099-a227-4ecf4d9cbabc",
   "metadata": {},
   "outputs": [],
   "source": [
    "#Credentials\n",
    "address = '291933b3-a304-499f-8649-14ec7ce3ce9a.hana.prod-ap10.hanacloud.ondemand.com'\n",
    "port = '443'\n",
    "user = 'DBUSER'\n",
    "password = 'Testing123'"
   ]
  },
  {
   "cell_type": "code",
   "execution_count": 33,
   "id": "4da539f1-2e8a-44c3-9e28-d30ae426325e",
   "metadata": {},
   "outputs": [],
   "source": [
    "from hdbcli import dbapi\n",
    "\n",
    "# connect to database using username/password\n",
    "conn = dbapi.connect(user=user, password=password, address=address, port=port)\n",
    "cursor = conn.cursor()"
   ]
  },
  {
   "cell_type": "code",
   "execution_count": 34,
   "id": "30977059-d829-4673-a7ae-12eecc5f1309",
   "metadata": {},
   "outputs": [],
   "source": [
    "#Populate a new RDF in HANA Cloud with the ttl file content. We put the ontology into a specific graph.\n",
    "ttl_filename = \"/Users/i757416/Documents/GitHub/btp-generative-ai-hub-use-cases/51-Knowledge-Graph-Explicit-knowledge-representation-and-reasoning/knowledge_graph/ontology/ontology-nsmen.ttl\"\n",
    "graph_name = \"http://www.semanticweb.org/ontologies/2025/advisory-rdf-test\""
   ]
  },
  {
   "cell_type": "code",
   "execution_count": 35,
   "id": "049e676e-e1d1-4597-accc-aa5f1261135a",
   "metadata": {},
   "outputs": [
    {
     "name": "stdout",
     "output_type": "stream",
     "text": [
      "drop graph <http://www.semanticweb.org/ontologies/2025/advisory-rdf-test>\n"
     ]
    }
   ],
   "source": [
    "# Drop existing one if needed\n",
    "query = \"\"\"drop graph <{graph_name}>\"\"\". format(graph_name=graph_name)\n",
    "print(query)"
   ]
  },
  {
   "cell_type": "code",
   "execution_count": 36,
   "id": "57d74764-ba52-49a6-b786-cc8ece509430",
   "metadata": {},
   "outputs": [],
   "source": [
    "#Uncomment to drop the ontology\n",
    "#resp = conn.cursor().callproc('SPARQL_EXECUTE', (query, '', '?', None) )"
   ]
  },
  {
   "cell_type": "code",
   "execution_count": 37,
   "id": "4cd73700-ecd4-4c60-8d7e-11087dcc35f3",
   "metadata": {},
   "outputs": [],
   "source": [
    "with open(ttl_filename, 'r') as ttlfp:\n",
    "    request_hdrs = ''\n",
    "    request_hdrs += 'rqx-load-protocol: true' + '\\r\\n'            # required header for upload protocol\n",
    "    request_hdrs += 'rqx-load-filename: ' + ttl_filename + '\\r\\n' # optional header\n",
    "    request_hdrs += 'rqx-load-graphname: ' + graph_name + '\\r\\n'   # optional header to specify name of the graph, \n",
    "                                                                  #if not provided RDF data will be loaded to internal-default-graph\n",
    "    conn.cursor().callproc('SPARQL_EXECUTE', (ttlfp.read(), request_hdrs, '?', None))"
   ]
  },
  {
   "cell_type": "code",
   "execution_count": 38,
   "id": "2bd64a92-a835-4129-a2fa-e352272aa999",
   "metadata": {},
   "outputs": [],
   "source": [
    "query = \"\"\"\n",
    "    SELECT * \n",
    "    FROM SPARQL_TABLE('\n",
    "        PREFIX : <http://www.semanticweb.org/ontologies/2025/advisory-ontology-test/>\n",
    "        SELECT ?s \n",
    "        FROM <http://www.semanticweb.org/ontologies/2025/advisory-rdf-test> \n",
    "        WHERE { \n",
    "            ?s a :NSman\n",
    "            }\n",
    "        '\n",
    "        )\"\"\""
   ]
  },
  {
   "cell_type": "code",
   "execution_count": 39,
   "id": "2ae40319-2036-45b9-9adb-f723711082d5",
   "metadata": {},
   "outputs": [],
   "source": [
    "#There is just one individual\n",
    "cursor.execute(query)\n",
    "for row in cursor:\n",
    "    print(row)"
   ]
  },
  {
   "cell_type": "code",
   "execution_count": 40,
   "id": "daef6826-9f76-4e7c-82d7-5f99eecd0bc4",
   "metadata": {},
   "outputs": [],
   "source": [
    "#Function to load more ttl files\n",
    "def load_file(ttl_filename, graph_name):\n",
    "    try:\n",
    "        with open(ttl_filename, 'r') as ttlfp:\n",
    "            request_hdrs = ''\n",
    "            request_hdrs += 'rqx-load-protocol: true' + '\\r\\n'            # required header for upload protocol\n",
    "            request_hdrs += 'rqx-load-filename: ' + ttl_filename + '\\r\\n' # optional header\n",
    "            request_hdrs += 'rqx-load-graphname: ' + graph_name + '\\r\\n'  # optional header to specify name of the graph, \n",
    "                                                                          # if not provided RDF data will be loaded \n",
    "                                                                          # to internal-default-graph\n",
    "            conn.cursor().callproc('SPARQL_EXECUTE', (ttlfp.read(), request_hdrs, '?', None))\n",
    "        return 0\n",
    "    except:\n",
    "        print(\"An exception occurred\")\n",
    "        return 1"
   ]
  },
  {
   "cell_type": "code",
   "execution_count": 41,
   "id": "94c4208e-9631-4876-a1fd-bc2948486a52",
   "metadata": {},
   "outputs": [],
   "source": [
    "query = \"\"\"drop graph <http://www.semanticweb.org/ontologies/2025/advisory-rdf-test>\"\"\""
   ]
  },
  {
   "cell_type": "code",
   "execution_count": 14,
   "id": "46516a6c-9345-469c-ad24-4a6e1b920cb8",
   "metadata": {},
   "outputs": [],
   "source": [
    "#Uncomment to drop the rdf\n",
    "#resp = conn.cursor().callproc('SPARQL_EXECUTE', (query, '', '?', None) )"
   ]
  },
  {
   "cell_type": "code",
   "execution_count": 42,
   "id": "65c102df-663a-444d-94ea-470baacb759a",
   "metadata": {},
   "outputs": [
    {
     "name": "stdout",
     "output_type": "stream",
     "text": [
      "/Users/i757416/Documents/GitHub/btp-generative-ai-hub-use-cases/51-Knowledge-Graph-Explicit-knowledge-representation-and-reasoning/knowledge_graph/instance-nsmen/unit_instances.ttl\n",
      "6\n"
     ]
    }
   ],
   "source": [
    "import glob\n",
    "\n",
    "path = \"/Users/i757416/Documents/GitHub/btp-generative-ai-hub-use-cases/51-Knowledge-Graph-Explicit-knowledge-representation-and-reasoning/knowledge_graph/instance-nsmen/\"\n",
    "\n",
    "list = sorted(glob.glob(path + \"*.ttl\"))\n",
    "print(list[5])\n",
    "print(len(list))"
   ]
  },
  {
   "cell_type": "code",
   "execution_count": 43,
   "id": "88565c9f-ca70-4dee-87f0-13e8d7853d88",
   "metadata": {},
   "outputs": [
    {
     "name": "stdout",
     "output_type": "stream",
     "text": [
      "0 /Users/i757416/Documents/GitHub/btp-generative-ai-hub-use-cases/51-Knowledge-Graph-Explicit-knowledge-representation-and-reasoning/knowledge_graph/instance-nsmen/booking_instances.ttl\n",
      "An exception occurred\n",
      "1 /Users/i757416/Documents/GitHub/btp-generative-ai-hub-use-cases/51-Knowledge-Graph-Explicit-knowledge-representation-and-reasoning/knowledge_graph/instance-nsmen/nsman_instances.ttl\n",
      "An exception occurred\n",
      "2 /Users/i757416/Documents/GitHub/btp-generative-ai-hub-use-cases/51-Knowledge-Graph-Explicit-knowledge-representation-and-reasoning/knowledge_graph/instance-nsmen/pesstatus_instances.ttl\n",
      "An exception occurred\n",
      "3 /Users/i757416/Documents/GitHub/btp-generative-ai-hub-use-cases/51-Knowledge-Graph-Explicit-knowledge-representation-and-reasoning/knowledge_graph/instance-nsmen/policy_instances.ttl\n",
      "An exception occurred\n",
      "4 /Users/i757416/Documents/GitHub/btp-generative-ai-hub-use-cases/51-Knowledge-Graph-Explicit-knowledge-representation-and-reasoning/knowledge_graph/instance-nsmen/rank_instances.ttl\n",
      "An exception occurred\n",
      "5 /Users/i757416/Documents/GitHub/btp-generative-ai-hub-use-cases/51-Knowledge-Graph-Explicit-knowledge-representation-and-reasoning/knowledge_graph/instance-nsmen/unit_instances.ttl\n",
      "An exception occurred\n"
     ]
    }
   ],
   "source": [
    "for i in range(len(list)):\n",
    "    print(i, list[i])\n",
    "    ttl_filename = list[i]\n",
    "    graph_name = \"http://www.semanticweb.org/ontologies/2025/advisory-rdf-test\"\n",
    "    load_file(ttl_filename, graph_name)"
   ]
  },
  {
   "cell_type": "code",
   "execution_count": 44,
   "id": "81b47be3",
   "metadata": {},
   "outputs": [],
   "source": [
    "# Complex query using your existing prefix and FROM\n",
    "query = \"\"\"\n",
    "PREFIX : <http://www.semanticweb.org/ontologies/2025/advisory-ontology-test/>\n",
    "PREFIX foaf: <http://xmlns.com/foaf/0.1/>\n",
    "PREFIX time: <http://www.w3.org/2006/time#>\n",
    "PREFIX schema: <https://schema.org/>\n",
    "\n",
    "SELECT ?nsman ?name ?unit ?rank ?pesStatus ?booking ?bookingTimeStart ?bookingTimeEnd\n",
    "FROM <http://www.semanticweb.org/ontologies/2025/advisory-rdf-test>\n",
    "WHERE {\n",
    "    ?nsman a :NSMan .\n",
    "    \n",
    "    # Get basic info if it exists\n",
    "    OPTIONAL { ?nsman foaf:name ?name . }\n",
    "    OPTIONAL { ?nsman :servesIn ?unit . }\n",
    "    OPTIONAL { ?nsman :hasRank ?rank . }\n",
    "    OPTIONAL { ?nsman :hasPESStatus ?pesStatus . }\n",
    "    \n",
    "    # Get booking information if available\n",
    "    OPTIONAL {\n",
    "        ?nsman :hasBooking ?booking .\n",
    "        ?booking :hasTime ?bookingTime .\n",
    "        ?bookingTime time:hasBeginning ?bookingTimeStart .\n",
    "        ?bookingTime time:hasEnd ?bookingTimeEnd .\n",
    "    }\n",
    "}\n",
    "LIMIT 20\n",
    "\"\"\"\n"
   ]
  },
  {
   "cell_type": "code",
   "execution_count": 45,
   "id": "1bb0686d",
   "metadata": {},
   "outputs": [
    {
     "name": "stdout",
     "output_type": "stream",
     "text": [
      "nsman,name,unit,rank,pesStatus,booking,bookingTimeStart,bookingTimeEnd\n",
      "\n"
     ]
    }
   ],
   "source": [
    "resp = conn.cursor().callproc('SPARQL_EXECUTE', (query, 'Accept: application/sparql-results+csv', '?', None) )\n",
    "print(resp[2]) "
   ]
  },
  {
   "cell_type": "code",
   "execution_count": 46,
   "id": "e4531a0c-3030-4797-afd9-74043b887684",
   "metadata": {},
   "outputs": [
    {
     "name": "stdout",
     "output_type": "stream",
     "text": [
      "Triples\n",
      "170\n",
      "\n"
     ]
    }
   ],
   "source": [
    "# Count the number of triples in the rdf\n",
    "query = \"\"\"\n",
    "    SELECT (COUNT(*) as ?Triples) \n",
    "    WHERE \n",
    "      { GRAPH <http://www.semanticweb.org/ontologies/2025/advisory-rdf-test> \n",
    "          { ?s ?p ?o } \n",
    "      }\n",
    "\"\"\"\n",
    "resp = conn.cursor().callproc('SPARQL_EXECUTE', (query, 'Accept: application/sparql-results+csv', '?', None) )\n",
    "print(resp[2]) "
   ]
  },
  {
   "cell_type": "code",
   "execution_count": 47,
   "id": "0070ddf8-196d-456f-baee-6b161fdc9de9",
   "metadata": {},
   "outputs": [
    {
     "name": "stdout",
     "output_type": "stream",
     "text": [
      "c\n",
      "http://www.semanticweb.org/ontologies/2025/nsmen-ontology/ServiceType\n",
      "http://www.semanticweb.org/ontologies/2025/nsmen-ontology/PolicyRule\n",
      "http://www.semanticweb.org/ontologies/2025/nsmen-ontology/ExitPermit\n",
      "http://www.semanticweb.org/ontologies/2025/nsmen-ontology/ObligationRule\n",
      "http://www.semanticweb.org/ontologies/2025/nsmen-ontology/SGT\n",
      "http://www.semanticweb.org/ontologies/2025/nsmen-ontology/Location\n",
      "http://www.semanticweb.org/ontologies/2025/nsmen-ontology/Unit\n",
      "http://www.semanticweb.org/ontologies/2025/nsmen-ontology/Deferment\n",
      "http://www.semanticweb.org/ontologies/2025/nsmen-ontology/ExemptionRule\n",
      "http://www.semanticweb.org/ontologies/2025/nsmen-ontology/PES_F\n",
      "http://www.semanticweb.org/ontologies/2025/nsmen-ontology/PES_C\n",
      "http://www.semanticweb.org/ontologies/2025/nsmen-ontology/PES_E\n",
      "http://www.semanticweb.org/ontologies/2025/nsmen-ontology/CPL\n",
      "http://www.semanticweb.org/ontologies/2025/nsmen-ontology/EligibilityRule\n",
      "http://www.semanticweb.org/ontologies/2025/nsmen-ontology/IPPTAttempt\n",
      "http://www.semanticweb.org/ontologies/2025/nsmen-ontology/PESStatus\n",
      "http://www.semanticweb.org/ontologies/2025/nsmen-ontology/NSMan\n",
      "http://www.semanticweb.org/ontologies/2025/nsmen-ontology/Rank\n",
      "http://www.semanticweb.org/ontologies/2025/nsmen-ontology/Booking\n",
      "http://www.semanticweb.org/ontologies/2025/nsmen-ontology/PES_B\n",
      "http://www.semanticweb.org/ontologies/2025/nsmen-ontology/IPPT\n",
      "http://www.semanticweb.org/ontologies/2025/nsmen-ontology/ServiceBranch\n",
      "http://www.semanticweb.org/ontologies/2025/nsmen-ontology/IPPTBooking\n",
      "http://www.semanticweb.org/ontologies/2025/nsmen-ontology/PES_A\n",
      "http://www.semanticweb.org/ontologies/2025/nsmen-ontology/PES_D\n",
      "http://www.semanticweb.org/ontologies/2025/nsmen-ontology/LTA\n",
      "http://www.semanticweb.org/ontologies/2025/nsmen-ontology/CPT\n",
      "\n"
     ]
    }
   ],
   "source": [
    "# Obtain a list of classes in the ontology\n",
    "query = \"\"\"\n",
    "    prefix rdf: <http://www.w3.org/1999/02/22-rdf-syntax-ns#>\n",
    "    prefix rdfs: <http://www.w3.org/2000/01/rdf-schema#>\n",
    "    prefix : <http://www.semanticweb.org/ontologies/2025/smart-technical-advisory-ontology-test/> \n",
    "    prefix owl: <http://www.w3.org/2002/07/owl#> \n",
    "    \n",
    "    SELECT DISTINCT ?c\n",
    "    FROM <http://www.semanticweb.org/ontologies/2025/advisory-rdf-test>\n",
    "    WHERE {\n",
    "        ?c a owl:Class\n",
    "    }\n",
    "\"\"\"\n",
    "resp = conn.cursor().callproc('SPARQL_EXECUTE', (query, 'Accept: application/sparql-results+csv', '?', None) )\n",
    "print(resp[2]) "
   ]
  },
  {
   "cell_type": "code",
   "execution_count": 48,
   "id": "88f0f90c-e232-49bb-86ef-56ad46876b62",
   "metadata": {},
   "outputs": [
    {
     "name": "stdout",
     "output_type": "stream",
     "text": [
      "http://www.semanticweb.org/ontologies/2025/nsmen-ontology/hasRank\n",
      "http://www.semanticweb.org/ontologies/2025/nsmen-ontology/hasPESStatus\n",
      "http://www.semanticweb.org/ontologies/2025/nsmen-ontology/occursAt\n",
      "http://www.semanticweb.org/ontologies/2025/nsmen-ontology/appliesTo\n",
      "http://www.semanticweb.org/ontologies/2025/nsmen-ontology/hasBooking\n",
      "http://www.semanticweb.org/ontologies/2025/nsmen-ontology/hasObligation\n",
      "http://www.semanticweb.org/ontologies/2025/nsmen-ontology/hasScope\n",
      "http://www.semanticweb.org/ontologies/2025/nsmen-ontology/hasExitPermit\n",
      "http://www.semanticweb.org/ontologies/2025/nsmen-ontology/servesIn\n",
      "http://www.semanticweb.org/ontologies/2025/nsmen-ontology/hasTime\n",
      "http://www.semanticweb.org/ontologies/2025/nsmen-ontology/hasDeferment\n"
     ]
    }
   ],
   "source": [
    "# Query all object properties defined in your NSMen ontology\n",
    "query = \"\"\"\n",
    "PREFIX rdf: <http://www.w3.org/1999/02/22-rdf-syntax-ns#>\n",
    "PREFIX owl: <http://www.w3.org/2002/07/owl#>\n",
    "PREFIX : <http://www.semanticweb.org/ontologies/2025/nsmen-ontology/>\n",
    "\n",
    "SELECT DISTINCT ?p\n",
    "WHERE {\n",
    "    ?p a owl:ObjectProperty .\n",
    "    FILTER(STRSTARTS(STR(?p), \"http://www.semanticweb.org/ontologies/2025/nsmen-ontology/\"))\n",
    "}\n",
    "\"\"\"\n",
    "\n",
    "# Execute SPARQL\n",
    "resp = conn.cursor().callproc(\n",
    "    'SPARQL_EXECUTE',\n",
    "    (query, 'Accept: application/sparql-results+csv', '?', None)\n",
    ")\n",
    "\n",
    "# Print results (excluding only the header row)\n",
    "lines = resp[2].splitlines()\n",
    "if len(lines) > 1:\n",
    "    for line in lines[1:]:\n",
    "        print(line)\n",
    "else:\n",
    "    print(\"No object properties found. Make sure your TTL is loaded into the RDF graph.\")\n"
   ]
  },
  {
   "cell_type": "markdown",
   "id": "deb3ee5b-ddb6-4bed-884f-7da0a701def3",
   "metadata": {},
   "source": [
    "## Other queries"
   ]
  },
  {
   "cell_type": "code",
   "execution_count": 49,
   "id": "0b275900-38c9-49b2-a6a4-3b14dc1e9079",
   "metadata": {},
   "outputs": [
    {
     "name": "stdout",
     "output_type": "stream",
     "text": [
      "@prefix xsd: <http://www.w3.org/2001/XMLSchema#>.\n",
      "<http://www.semanticweb.org/ontologies/2025/nsmen-ontology/ServiceType> <http://www.w3.org/1999/02/22-rdf-syntax-ns#type> <http://www.w3.org/2002/07/owl#Class> .\n",
      "<http://www.semanticweb.org/ontologies/2025/nsmen-ontology/PolicyRule> <http://www.w3.org/1999/02/22-rdf-syntax-ns#type> <http://www.w3.org/2002/07/owl#Class> .\n",
      "<http://www.semanticweb.org/ontologies/2025/nsmen-ontology/ExitPermit> <http://www.w3.org/1999/02/22-rdf-syntax-ns#type> <http://www.w3.org/2002/07/owl#Class> .\n",
      "<http://www.semanticweb.org/ontologies/2025/nsmen-ontology/ObligationRule> <http://www.w3.org/1999/02/22-rdf-syntax-ns#type> <http://www.w3.org/2002/07/owl#Class> .\n",
      "<http://www.semanticweb.org/ontologies/2025/nsmen-ontology/SGT> <http://www.w3.org/1999/02/22-rdf-syntax-ns#type> <http://www.w3.org/2002/07/owl#Class> .\n",
      "<http://www.semanticweb.org/ontologies/2025/nsmen-ontology/hasExitPermit> <http://www.w3.org/1999/02/22-rdf-syntax-ns#type> <http://www.w3.org/2002/07/owl#ObjectProperty> .\n",
      "<http://xmlns.com/foaf/0.1/mbox> <http://www.w3.org/1999/02/22-rdf-syntax-ns#type> <http://www.w3.org/2002/07/owl#DatatypeProperty> .\n",
      "<http://www.semanticweb.org/ontologies/2025/nsmen-ontology/bookingRef> <http://www.w3.org/1999/02/22-rdf-syntax-ns#type> <http://www.w3.org/2002/07/owl#DatatypeProperty> .\n",
      "<http://www.semanticweb.org/ontologies/2025/nsmen-ontology/Fitness_Centre_Khatib> <http://www.w3.org/1999/02/22-rdf-syntax-ns#type> <http://www.semanticweb.org/ontologies/2025/nsmen-ontology/Location> .\n",
      "<http://www.w3.org/2006/time#hasEnd> <http://www.w3.org/1999/02/22-rdf-syntax-ns#type> <http://www.w3.org/2002/07/owl#DatatypeProperty> .\n",
      "\n"
     ]
    }
   ],
   "source": [
    "# Get the onthology schema \n",
    "query = \"\"\"\n",
    "    CONSTRUCT {?s ?p ?o} FROM <http://www.semanticweb.org/ontologies/2025/advisory-rdf-test> \n",
    "    WHERE {?s ?p ?o}\n",
    "    LIMIT 10\n",
    "\"\"\"\n",
    "resp = conn.cursor().callproc('SPARQL_EXECUTE', (query, 'Accept: application/sparql-results+csv', '?', None) )\n",
    "print(resp[2])"
   ]
  },
  {
   "cell_type": "code",
   "execution_count": null,
   "id": "a3e37918",
   "metadata": {},
   "outputs": [
    {
     "name": "stderr",
     "output_type": "stream",
     "text": [
      "100%|██████████| 1/1 [00:00<00:00,  3.58it/s]\n"
     ]
    },
    {
     "ename": "AttributeError",
     "evalue": "'int' object has no attribute 'collect'",
     "output_type": "error",
     "traceback": [
      "\u001b[31m---------------------------------------------------------------------------\u001b[39m",
      "\u001b[31mAttributeError\u001b[39m                            Traceback (most recent call last)",
      "\u001b[36mCell\u001b[39m\u001b[36m \u001b[39m\u001b[32mIn[43]\u001b[39m\u001b[32m, line 23\u001b[39m\n\u001b[32m     14\u001b[39m \u001b[38;5;66;03m# 3. Upload CSV into HANA table\u001b[39;00m\n\u001b[32m     15\u001b[39m df_hana = create_dataframe_from_pandas(\n\u001b[32m     16\u001b[39m     connection_context=conn,   \u001b[38;5;66;03m# <-- correct parameter name\u001b[39;00m\n\u001b[32m     17\u001b[39m     pandas_df=df,\n\u001b[32m   (...)\u001b[39m\u001b[32m     20\u001b[39m     force=\u001b[38;5;28;01mTrue\u001b[39;00m  \u001b[38;5;66;03m# overwrite if table exists\u001b[39;00m\n\u001b[32m     21\u001b[39m )\n\u001b[32m---> \u001b[39m\u001b[32m23\u001b[39m \u001b[38;5;28mprint\u001b[39m(\u001b[33m\"\u001b[39m\u001b[33mUpload successful! Rows:\u001b[39m\u001b[33m\"\u001b[39m, \u001b[43mdf_hana\u001b[49m\u001b[43m.\u001b[49m\u001b[43mcount\u001b[49m\u001b[43m(\u001b[49m\u001b[43m)\u001b[49m\u001b[43m.\u001b[49m\u001b[43mcollect\u001b[49m())\n",
      "\u001b[31mAttributeError\u001b[39m: 'int' object has no attribute 'collect'"
     ]
    }
   ],
   "source": [
    "import pandas as pd\n",
    "from hana_ml.dataframe import ConnectionContext, create_dataframe_from_pandas\n",
    "\n",
    "# 1. Load CSV\n",
    "df = pd.read_csv(\"/Users/i757416/Documents/GitHub/btp-generative-ai-hub-use-cases/51-Knowledge-Graph-Explicit-knowledge-representation-and-reasoning/backend/db/content_advisories_table.sql.csv\")  # your CSV file\n",
    "\n",
    "conn = ConnectionContext(\n",
    "    address=\"291933b3-a304-499f-8649-14ec7ce3ce9a.hana.prod-ap10.hanacloud.ondemand.com\",\n",
    "    port=443,\n",
    "    user=\"DBUSER\",\n",
    "    password=\"Testing123\",\n",
    ")\n",
    "\n",
    "# 3. Upload CSV into HANA table\n",
    "df_hana = create_dataframe_from_pandas(\n",
    "    connection_context=conn,   # <-- correct parameter name\n",
    "    pandas_df=df,\n",
    "    table_name=\"ADVISORIES4\",\n",
    "    schema=\"DBUSER\",\n",
    "    force=True  # overwrite if table exists\n",
    ")\n",
    "\n",
    "print(\"Upload successful!\")"
   ]
  }
 ],
 "metadata": {
  "kernelspec": {
   "display_name": ".venv",
   "language": "python",
   "name": "python3"
  },
  "language_info": {
   "codemirror_mode": {
    "name": "ipython",
    "version": 3
   },
   "file_extension": ".py",
   "mimetype": "text/x-python",
   "name": "python",
   "nbconvert_exporter": "python",
   "pygments_lexer": "ipython3",
   "version": "3.11.9"
  }
 },
 "nbformat": 4,
 "nbformat_minor": 5
}
